{
 "cells": [
  {
   "cell_type": "markdown",
   "id": "weird-lloyd",
   "metadata": {},
   "source": [
    "# 02 语言元素"
   ]
  },
  {
   "cell_type": "code",
   "execution_count": 2,
   "id": "armed-habitat",
   "metadata": {},
   "outputs": [
    {
     "data": {
      "text/plain": [
       "complex"
      ]
     },
     "execution_count": 2,
     "metadata": {},
     "output_type": "execute_result"
    }
   ],
   "source": [
    "c = 1 + 5j\n",
    "type(c)"
   ]
  },
  {
   "cell_type": "code",
   "execution_count": 5,
   "id": "alleged-tanzania",
   "metadata": {},
   "outputs": [
    {
     "data": {
      "text/plain": [
       "str"
      ]
     },
     "execution_count": 5,
     "metadata": {},
     "output_type": "execute_result"
    }
   ],
   "source": [
    "a = \"a14\"\n",
    "type(a)"
   ]
  },
  {
   "cell_type": "markdown",
   "id": "described-literacy",
   "metadata": {},
   "source": [
    "## 占位符"
   ]
  },
  {
   "cell_type": "code",
   "execution_count": 6,
   "id": "unsigned-matrix",
   "metadata": {},
   "outputs": [
    {
     "name": "stdin",
     "output_type": "stream",
     "text": [
      "a=  5\n",
      "b=  8\n"
     ]
    },
    {
     "name": "stdout",
     "output_type": "stream",
     "text": [
      "5 + 8 = 13\n"
     ]
    }
   ],
   "source": [
    "a = int(input(\"a= \"))\n",
    "b = int(input(\"b= \"))\n",
    "print(\"%d + %d = %d\" % (a, b, a+b))"
   ]
  },
  {
   "cell_type": "code",
   "execution_count": 8,
   "id": "stretch-complexity",
   "metadata": {},
   "outputs": [
    {
     "name": "stdin",
     "output_type": "stream",
     "text": [
      "a=  8\n",
      "b=  3\n"
     ]
    },
    {
     "name": "stdout",
     "output_type": "stream",
     "text": [
      "8 // 3 = 2\n"
     ]
    }
   ],
   "source": [
    "a = int(input(\"a= \"))\n",
    "b = int(input(\"b= \"))\n",
    "print(\"%d // %d = %d\" % (a, b, a // b))"
   ]
  },
  {
   "cell_type": "code",
   "execution_count": 11,
   "id": "bizarre-relative",
   "metadata": {},
   "outputs": [
    {
     "name": "stdin",
     "output_type": "stream",
     "text": [
      "a=  9\n",
      "b=  4\n"
     ]
    },
    {
     "name": "stdout",
     "output_type": "stream",
     "text": [
      "9 % 4 = 1\n"
     ]
    }
   ],
   "source": [
    "a = int(input(\"a= \"))\n",
    "b = int(input(\"b= \"))\n",
    "print(\"%d %% %d = %d\" % (a, b, a % b))"
   ]
  },
  {
   "cell_type": "code",
   "execution_count": 12,
   "id": "representative-senator",
   "metadata": {},
   "outputs": [
    {
     "name": "stdin",
     "output_type": "stream",
     "text": [
      "a=  4\n",
      "b=  2\n"
     ]
    },
    {
     "name": "stdout",
     "output_type": "stream",
     "text": [
      "4 ** 2 = 16\n"
     ]
    }
   ],
   "source": [
    "a = int(input(\"a= \"))\n",
    "b = int(input(\"b= \"))\n",
    "print(\"%d ** %d = %d\" % (a, b, a ** b))"
   ]
  },
  {
   "cell_type": "code",
   "execution_count": 15,
   "id": "selective-discount",
   "metadata": {},
   "outputs": [
    {
     "ename": "SyntaxError",
     "evalue": "invalid syntax (<ipython-input-15-c5b54583f976>, line 3)",
     "output_type": "error",
     "traceback": [
      "\u001b[1;36m  File \u001b[1;32m\"<ipython-input-15-c5b54583f976>\"\u001b[1;36m, line \u001b[1;32m3\u001b[0m\n\u001b[1;33m    print(a *= a+2)\u001b[0m\n\u001b[1;37m            ^\u001b[0m\n\u001b[1;31mSyntaxError\u001b[0m\u001b[1;31m:\u001b[0m invalid syntax\n"
     ]
    }
   ],
   "source": [
    "a = int(input(\"a= \"))\n",
    "# b = int(input(\"b= \"))\n",
    "print(a *= a+2)"
   ]
  },
  {
   "cell_type": "code",
   "execution_count": 16,
   "id": "cloudy-making",
   "metadata": {},
   "outputs": [
    {
     "name": "stdin",
     "output_type": "stream",
     "text": [
      "F =  108\n"
     ]
    },
    {
     "name": "stdout",
     "output_type": "stream",
     "text": [
      "42.22222222222222\n"
     ]
    }
   ],
   "source": [
    "f1 = float(input('F = '))\n",
    "Cel = (f1 - 32) / 1.8\n",
    "print(Cel)"
   ]
  },
  {
   "cell_type": "code",
   "execution_count": 18,
   "id": "correct-humanitarian",
   "metadata": {},
   "outputs": [
    {
     "name": "stdin",
     "output_type": "stream",
     "text": [
      "F =  1.9\n"
     ]
    },
    {
     "name": "stdout",
     "output_type": "stream",
     "text": [
      "(1.900000 -32) / 1.8 \n"
     ]
    }
   ],
   "source": [
    "f1 = float(input('F = '))\n",
    "print(\"(%f -32) / 1.8 \" % (f1))"
   ]
  },
  {
   "cell_type": "code",
   "execution_count": 24,
   "id": "widespread-pierre",
   "metadata": {},
   "outputs": [
    {
     "name": "stdin",
     "output_type": "stream",
     "text": [
      "半径 =  5.6\n"
     ]
    },
    {
     "name": "stdout",
     "output_type": "stream",
     "text": [
      "35.168 98.4704\n"
     ]
    }
   ],
   "source": [
    "ra = float(input(\"半径 = \"))\n",
    "cr = 2 * ra * 3.14\n",
    "area = 3.14 * ra * ra\n",
    "print(cr, area)"
   ]
  },
  {
   "cell_type": "code",
   "execution_count": 29,
   "id": "removable-israel",
   "metadata": {},
   "outputs": [
    {
     "name": "stdin",
     "output_type": "stream",
     "text": [
      "输入年 =  2020\n"
     ]
    },
    {
     "name": "stdout",
     "output_type": "stream",
     "text": [
      "2020 is not leap\n"
     ]
    }
   ],
   "source": [
    "year = int(input(\"输入年 = \"))\n",
    "if year // 4 == 0:\n",
    "    print(\"%d\" % (year) + \" is leap\")\n",
    "else:\n",
    "    print(\"%d\" % (year) + \" is not leap\")"
   ]
  },
  {
   "cell_type": "markdown",
   "id": "another-product",
   "metadata": {},
   "source": [
    "# 03 "
   ]
  },
  {
   "cell_type": "code",
   "execution_count": 1,
   "id": "random-radiation",
   "metadata": {
    "collapsed": true,
    "jupyter": {
     "outputs_hidden": true
    },
    "tags": []
   },
   "outputs": [
    {
     "name": "stdin",
     "output_type": "stream",
     "text": [
      "input name:  ad\n",
      "password:  12\n"
     ]
    },
    {
     "name": "stdout",
     "output_type": "stream",
     "text": [
      "wrong\n"
     ]
    }
   ],
   "source": [
    "usrname = input('input name: ')\n",
    "pd = input('password: ')\n",
    "if usrname == 'admin' and pd == \"123\":\n",
    "    print(\"your are right\")\n",
    "else:\n",
    "    print(\"wrong\")"
   ]
  },
  {
   "cell_type": "code",
   "execution_count": 6,
   "id": "sublime-warning",
   "metadata": {},
   "outputs": [
    {
     "name": "stdin",
     "output_type": "stream",
     "text": [
      "x=  0\n"
     ]
    },
    {
     "name": "stdout",
     "output_type": "stream",
     "text": [
      "f(0.00) = 2.00\n"
     ]
    }
   ],
   "source": [
    "# x = input(\"x= \") #s输入的任何都是字符串，即便是数字也默认是字符串 \n",
    "# not supported between instances of 'str' and 'int'\n",
    "x = float(input(\"x= \"))\n",
    "if x > 1:\n",
    "    y = 3*x -5 \n",
    "elif x < -1:\n",
    "    y = 5 * x + 3 \n",
    "else:\n",
    "    y = x + 2\n",
    "print(\"f(%.2f) = %.2f\" % (x, y))"
   ]
  },
  {
   "cell_type": "code",
   "execution_count": 9,
   "id": "supported-upgrade",
   "metadata": {},
   "outputs": [
    {
     "name": "stdin",
     "output_type": "stream",
     "text": [
      "请输入值:  5\n",
      "请输入单位:  cm\n"
     ]
    },
    {
     "name": "stdout",
     "output_type": "stream",
     "text": [
      "5.000000厘米 = 1.968504英寸\n"
     ]
    }
   ],
   "source": [
    "value = float(input(\"请输入值: \"))\n",
    "unit = input(\"请输入单位: \")\n",
    "if unit == \"in\" or unit == '英寸' or unit == 'inch':\n",
    "    print('%f英寸 = %f厘米' % (value, value * 2.54))\n",
    "elif unit == 'cm' or unit == \"厘米\":\n",
    "    print(\"%f厘米 = %f英寸\" % (value, value / 2.54))\n",
    "else:\n",
    "    print('请输入单位')"
   ]
  },
  {
   "cell_type": "code",
   "execution_count": 11,
   "id": "turkish-colonial",
   "metadata": {
    "tags": []
   },
   "outputs": [
    {
     "name": "stdin",
     "output_type": "stream",
     "text": [
      "请输入成绩:  85\n"
     ]
    },
    {
     "name": "stdout",
     "output_type": "stream",
     "text": [
      "你的等级是： B\n"
     ]
    }
   ],
   "source": [
    "score = float(input(\"请输入成绩: \"))\n",
    "if score >= 90:\n",
    "    grade = \"A\"\n",
    "elif score >= 80:\n",
    "    grade = \"B\"\n",
    "elif score >= 70:\n",
    "    grade = \"C\"\n",
    "elif score >= 60:\n",
    "    grade = \"D\"\n",
    "else:\n",
    "    grade = \"E\"\n",
    "print(\"你的等级是：\", grade)"
   ]
  },
  {
   "cell_type": "code",
   "execution_count": 13,
   "id": "round-powder",
   "metadata": {},
   "outputs": [
    {
     "name": "stdin",
     "output_type": "stream",
     "text": [
      "a=  7\n",
      "b=  5\n",
      "c=  9\n"
     ]
    },
    {
     "name": "stdout",
     "output_type": "stream",
     "text": [
      "周长：21.000000\n",
      "面积：17.412280\n"
     ]
    }
   ],
   "source": [
    "a = float(input(\"a= \"))\n",
    "b = float(input(\"b= \"))\n",
    "c = float(input(\"c= \"))\n",
    "\n",
    "if a + b> c and a + c > b and b + c > a:\n",
    "    print(\"周长：%f\" % (a+b+c))\n",
    "    p = (a+b+c) / 2\n",
    "    area = (p*(p-a)*(p-b)*(p-c))** 0.5\n",
    "    print('面积：%f' % (area))\n",
    "else:\n",
    "    print(\"不是三角形\")"
   ]
  }
 ],
 "metadata": {
  "kernelspec": {
   "display_name": "Python 3",
   "language": "python",
   "name": "python3"
  },
  "language_info": {
   "codemirror_mode": {
    "name": "ipython",
    "version": 3
   },
   "file_extension": ".py",
   "mimetype": "text/x-python",
   "name": "python",
   "nbconvert_exporter": "python",
   "pygments_lexer": "ipython3",
   "version": "3.9.2"
  }
 },
 "nbformat": 4,
 "nbformat_minor": 5
}
