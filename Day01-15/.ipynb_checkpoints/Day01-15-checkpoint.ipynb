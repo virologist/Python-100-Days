{
 "cells": [
  {
   "cell_type": "markdown",
   "id": "civil-installation",
   "metadata": {},
   "source": [
    "# 02 语言元素"
   ]
  },
  {
   "cell_type": "code",
   "execution_count": 2,
   "id": "bibliographic-ready",
   "metadata": {},
   "outputs": [
    {
     "data": {
      "text/plain": [
       "complex"
      ]
     },
     "execution_count": 2,
     "metadata": {},
     "output_type": "execute_result"
    }
   ],
   "source": [
    "c = 1 + 5j\n",
    "type(c)"
   ]
  },
  {
   "cell_type": "code",
   "execution_count": 5,
   "id": "directed-meaning",
   "metadata": {},
   "outputs": [
    {
     "data": {
      "text/plain": [
       "str"
      ]
     },
     "execution_count": 5,
     "metadata": {},
     "output_type": "execute_result"
    }
   ],
   "source": [
    "a = \"a14\"\n",
    "type(a)"
   ]
  },
  {
   "cell_type": "markdown",
   "id": "medieval-scale",
   "metadata": {},
   "source": [
    "## 占位符"
   ]
  },
  {
   "cell_type": "code",
   "execution_count": 6,
   "id": "appointed-appendix",
   "metadata": {},
   "outputs": [
    {
     "name": "stdin",
     "output_type": "stream",
     "text": [
      "a=  5\n",
      "b=  8\n"
     ]
    },
    {
     "name": "stdout",
     "output_type": "stream",
     "text": [
      "5 + 8 = 13\n"
     ]
    }
   ],
   "source": [
    "a = int(input(\"a= \"))\n",
    "b = int(input(\"b= \"))\n",
    "print(\"%d + %d = %d\" % (a, b, a+b))"
   ]
  },
  {
   "cell_type": "code",
   "execution_count": 8,
   "id": "incorporate-spell",
   "metadata": {},
   "outputs": [
    {
     "name": "stdin",
     "output_type": "stream",
     "text": [
      "a=  8\n",
      "b=  3\n"
     ]
    },
    {
     "name": "stdout",
     "output_type": "stream",
     "text": [
      "8 // 3 = 2\n"
     ]
    }
   ],
   "source": [
    "a = int(input(\"a= \"))\n",
    "b = int(input(\"b= \"))\n",
    "print(\"%d // %d = %d\" % (a, b, a // b))"
   ]
  },
  {
   "cell_type": "code",
   "execution_count": 11,
   "id": "guilty-milan",
   "metadata": {},
   "outputs": [
    {
     "name": "stdin",
     "output_type": "stream",
     "text": [
      "a=  9\n",
      "b=  4\n"
     ]
    },
    {
     "name": "stdout",
     "output_type": "stream",
     "text": [
      "9 % 4 = 1\n"
     ]
    }
   ],
   "source": [
    "a = int(input(\"a= \"))\n",
    "b = int(input(\"b= \"))\n",
    "print(\"%d %% %d = %d\" % (a, b, a % b))"
   ]
  },
  {
   "cell_type": "code",
   "execution_count": 12,
   "id": "relative-institute",
   "metadata": {},
   "outputs": [
    {
     "name": "stdin",
     "output_type": "stream",
     "text": [
      "a=  4\n",
      "b=  2\n"
     ]
    },
    {
     "name": "stdout",
     "output_type": "stream",
     "text": [
      "4 ** 2 = 16\n"
     ]
    }
   ],
   "source": [
    "a = int(input(\"a= \"))\n",
    "b = int(input(\"b= \"))\n",
    "print(\"%d ** %d = %d\" % (a, b, a ** b))"
   ]
  },
  {
   "cell_type": "code",
   "execution_count": 15,
   "id": "played-edgar",
   "metadata": {},
   "outputs": [
    {
     "ename": "SyntaxError",
     "evalue": "invalid syntax (<ipython-input-15-c5b54583f976>, line 3)",
     "output_type": "error",
     "traceback": [
      "\u001b[1;36m  File \u001b[1;32m\"<ipython-input-15-c5b54583f976>\"\u001b[1;36m, line \u001b[1;32m3\u001b[0m\n\u001b[1;33m    print(a *= a+2)\u001b[0m\n\u001b[1;37m            ^\u001b[0m\n\u001b[1;31mSyntaxError\u001b[0m\u001b[1;31m:\u001b[0m invalid syntax\n"
     ]
    }
   ],
   "source": [
    "a = int(input(\"a= \"))\n",
    "# b = int(input(\"b= \"))\n",
    "print(a *= a+2)"
   ]
  },
  {
   "cell_type": "code",
   "execution_count": 16,
   "id": "attended-research",
   "metadata": {},
   "outputs": [
    {
     "name": "stdin",
     "output_type": "stream",
     "text": [
      "F =  108\n"
     ]
    },
    {
     "name": "stdout",
     "output_type": "stream",
     "text": [
      "42.22222222222222\n"
     ]
    }
   ],
   "source": [
    "f1 = float(input('F = '))\n",
    "Cel = (f1 - 32) / 1.8\n",
    "print(Cel)"
   ]
  },
  {
   "cell_type": "code",
   "execution_count": 18,
   "id": "useful-elimination",
   "metadata": {},
   "outputs": [
    {
     "name": "stdin",
     "output_type": "stream",
     "text": [
      "F =  1.9\n"
     ]
    },
    {
     "name": "stdout",
     "output_type": "stream",
     "text": [
      "(1.900000 -32) / 1.8 \n"
     ]
    }
   ],
   "source": [
    "f1 = float(input('F = '))\n",
    "print(\"(%f -32) / 1.8 \" % (f1))"
   ]
  },
  {
   "cell_type": "code",
   "execution_count": 24,
   "id": "irish-arcade",
   "metadata": {},
   "outputs": [
    {
     "name": "stdin",
     "output_type": "stream",
     "text": [
      "半径 =  5.6\n"
     ]
    },
    {
     "name": "stdout",
     "output_type": "stream",
     "text": [
      "35.168 98.4704\n"
     ]
    }
   ],
   "source": [
    "ra = float(input(\"半径 = \"))\n",
    "cr = 2 * ra * 3.14\n",
    "area = 3.14 * ra * ra\n",
    "print(cr, area)"
   ]
  },
  {
   "cell_type": "code",
   "execution_count": 29,
   "id": "beautiful-compilation",
   "metadata": {},
   "outputs": [
    {
     "name": "stdin",
     "output_type": "stream",
     "text": [
      "输入年 =  2020\n"
     ]
    },
    {
     "name": "stdout",
     "output_type": "stream",
     "text": [
      "2020 is not leap\n"
     ]
    }
   ],
   "source": [
    "year = int(input(\"输入年 = \"))\n",
    "if year // 4 == 0:\n",
    "    print(\"%d\" % (year) + \" is leap\")\n",
    "else:\n",
    "    print(\"%d\" % (year) + \" is not leap\")"
   ]
  },
  {
   "cell_type": "markdown",
   "id": "expired-springer",
   "metadata": {},
   "source": [
    "# 03 "
   ]
  },
  {
   "cell_type": "code",
   "execution_count": null,
   "id": "anonymous-bronze",
   "metadata": {},
   "outputs": [],
   "source": []
  }
 ],
 "metadata": {
  "kernelspec": {
   "display_name": "Python 3",
   "language": "python",
   "name": "python3"
  },
  "language_info": {
   "codemirror_mode": {
    "name": "ipython",
    "version": 3
   },
   "file_extension": ".py",
   "mimetype": "text/x-python",
   "name": "python",
   "nbconvert_exporter": "python",
   "pygments_lexer": "ipython3",
   "version": "3.9.2"
  }
 },
 "nbformat": 4,
 "nbformat_minor": 5
}
