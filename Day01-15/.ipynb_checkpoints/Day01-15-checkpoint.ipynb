{
 "cells": [
  {
   "cell_type": "markdown",
   "id": "egyptian-editor",
   "metadata": {},
   "source": [
    "# 02 语言元素"
   ]
  },
  {
   "cell_type": "code",
   "execution_count": 2,
   "id": "increased-disease",
   "metadata": {},
   "outputs": [
    {
     "data": {
      "text/plain": [
       "complex"
      ]
     },
     "execution_count": 2,
     "metadata": {},
     "output_type": "execute_result"
    }
   ],
   "source": [
    "c = 1 + 5j\n",
    "type(c)"
   ]
  },
  {
   "cell_type": "code",
   "execution_count": 5,
   "id": "recent-blast",
   "metadata": {},
   "outputs": [
    {
     "data": {
      "text/plain": [
       "str"
      ]
     },
     "execution_count": 5,
     "metadata": {},
     "output_type": "execute_result"
    }
   ],
   "source": [
    "a = \"a14\"\n",
    "type(a)"
   ]
  },
  {
   "cell_type": "markdown",
   "id": "caroline-publicity",
   "metadata": {},
   "source": [
    "## 占位符"
   ]
  },
  {
   "cell_type": "code",
   "execution_count": 6,
   "id": "extraordinary-communication",
   "metadata": {},
   "outputs": [
    {
     "name": "stdin",
     "output_type": "stream",
     "text": [
      "a=  5\n",
      "b=  8\n"
     ]
    },
    {
     "name": "stdout",
     "output_type": "stream",
     "text": [
      "5 + 8 = 13\n"
     ]
    }
   ],
   "source": [
    "a = int(input(\"a= \"))\n",
    "b = int(input(\"b= \"))\n",
    "print(\"%d + %d = %d\" % (a, b, a+b))"
   ]
  },
  {
   "cell_type": "code",
   "execution_count": 8,
   "id": "stupid-california",
   "metadata": {},
   "outputs": [
    {
     "name": "stdin",
     "output_type": "stream",
     "text": [
      "a=  8\n",
      "b=  3\n"
     ]
    },
    {
     "name": "stdout",
     "output_type": "stream",
     "text": [
      "8 // 3 = 2\n"
     ]
    }
   ],
   "source": [
    "a = int(input(\"a= \"))\n",
    "b = int(input(\"b= \"))\n",
    "print(\"%d // %d = %d\" % (a, b, a // b))"
   ]
  },
  {
   "cell_type": "code",
   "execution_count": 11,
   "id": "coastal-feedback",
   "metadata": {},
   "outputs": [
    {
     "name": "stdin",
     "output_type": "stream",
     "text": [
      "a=  9\n",
      "b=  4\n"
     ]
    },
    {
     "name": "stdout",
     "output_type": "stream",
     "text": [
      "9 % 4 = 1\n"
     ]
    }
   ],
   "source": [
    "a = int(input(\"a= \"))\n",
    "b = int(input(\"b= \"))\n",
    "print(\"%d %% %d = %d\" % (a, b, a % b))"
   ]
  },
  {
   "cell_type": "code",
   "execution_count": 12,
   "id": "dried-diploma",
   "metadata": {},
   "outputs": [
    {
     "name": "stdin",
     "output_type": "stream",
     "text": [
      "a=  4\n",
      "b=  2\n"
     ]
    },
    {
     "name": "stdout",
     "output_type": "stream",
     "text": [
      "4 ** 2 = 16\n"
     ]
    }
   ],
   "source": [
    "a = int(input(\"a= \"))\n",
    "b = int(input(\"b= \"))\n",
    "print(\"%d ** %d = %d\" % (a, b, a ** b))"
   ]
  },
  {
   "cell_type": "code",
   "execution_count": 15,
   "id": "formed-capacity",
   "metadata": {},
   "outputs": [
    {
     "ename": "SyntaxError",
     "evalue": "invalid syntax (<ipython-input-15-c5b54583f976>, line 3)",
     "output_type": "error",
     "traceback": [
      "\u001b[1;36m  File \u001b[1;32m\"<ipython-input-15-c5b54583f976>\"\u001b[1;36m, line \u001b[1;32m3\u001b[0m\n\u001b[1;33m    print(a *= a+2)\u001b[0m\n\u001b[1;37m            ^\u001b[0m\n\u001b[1;31mSyntaxError\u001b[0m\u001b[1;31m:\u001b[0m invalid syntax\n"
     ]
    }
   ],
   "source": [
    "a = int(input(\"a= \"))\n",
    "# b = int(input(\"b= \"))\n",
    "print(a *= a+2)"
   ]
  },
  {
   "cell_type": "code",
   "execution_count": 16,
   "id": "ranging-object",
   "metadata": {},
   "outputs": [
    {
     "name": "stdin",
     "output_type": "stream",
     "text": [
      "F =  108\n"
     ]
    },
    {
     "name": "stdout",
     "output_type": "stream",
     "text": [
      "42.22222222222222\n"
     ]
    }
   ],
   "source": [
    "f1 = float(input('F = '))\n",
    "Cel = (f1 - 32) / 1.8\n",
    "print(Cel)"
   ]
  },
  {
   "cell_type": "code",
   "execution_count": 18,
   "id": "pleased-unemployment",
   "metadata": {},
   "outputs": [
    {
     "name": "stdin",
     "output_type": "stream",
     "text": [
      "F =  1.9\n"
     ]
    },
    {
     "name": "stdout",
     "output_type": "stream",
     "text": [
      "(1.900000 -32) / 1.8 \n"
     ]
    }
   ],
   "source": [
    "f1 = float(input('F = '))\n",
    "print(\"(%f -32) / 1.8 \" % (f1))"
   ]
  },
  {
   "cell_type": "code",
   "execution_count": 24,
   "id": "finnish-butterfly",
   "metadata": {},
   "outputs": [
    {
     "name": "stdin",
     "output_type": "stream",
     "text": [
      "半径 =  5.6\n"
     ]
    },
    {
     "name": "stdout",
     "output_type": "stream",
     "text": [
      "35.168 98.4704\n"
     ]
    }
   ],
   "source": [
    "ra = float(input(\"半径 = \"))\n",
    "cr = 2 * ra * 3.14\n",
    "area = 3.14 * ra * ra\n",
    "print(cr, area)"
   ]
  },
  {
   "cell_type": "code",
   "execution_count": 29,
   "id": "opponent-photographer",
   "metadata": {},
   "outputs": [
    {
     "name": "stdin",
     "output_type": "stream",
     "text": [
      "输入年 =  2020\n"
     ]
    },
    {
     "name": "stdout",
     "output_type": "stream",
     "text": [
      "2020 is not leap\n"
     ]
    }
   ],
   "source": [
    "year = int(input(\"输入年 = \"))\n",
    "if year // 4 == 0:\n",
    "    print(\"%d\" % (year) + \" is leap\")\n",
    "else:\n",
    "    print(\"%d\" % (year) + \" is not leap\")"
   ]
  },
  {
   "cell_type": "markdown",
   "id": "designing-corner",
   "metadata": {},
   "source": [
    "# 03 "
   ]
  },
  {
   "cell_type": "code",
   "execution_count": 1,
   "id": "synthetic-number",
   "metadata": {
    "collapsed": true,
    "jupyter": {
     "outputs_hidden": true
    },
    "tags": []
   },
   "outputs": [
    {
     "name": "stdin",
     "output_type": "stream",
     "text": [
      "input name:  ad\n",
      "password:  12\n"
     ]
    },
    {
     "name": "stdout",
     "output_type": "stream",
     "text": [
      "wrong\n"
     ]
    }
   ],
   "source": [
    "usrname = input('input name: ')\n",
    "pd = input('password: ')\n",
    "if usrname == 'admin' and pd == \"123\":\n",
    "    print(\"your are right\")\n",
    "else:\n",
    "    print(\"wrong\")"
   ]
  },
  {
   "cell_type": "code",
   "execution_count": 6,
   "id": "macro-glance",
   "metadata": {},
   "outputs": [
    {
     "name": "stdin",
     "output_type": "stream",
     "text": [
      "x=  0\n"
     ]
    },
    {
     "name": "stdout",
     "output_type": "stream",
     "text": [
      "f(0.00) = 2.00\n"
     ]
    }
   ],
   "source": [
    "# x = input(\"x= \") #s输入的任何都是字符串，即便是数字也默认是字符串 \n",
    "# not supported between instances of 'str' and 'int'\n",
    "x = float(input(\"x= \"))\n",
    "if x > 1:\n",
    "    y = 3*x -5 \n",
    "elif x < -1:\n",
    "    y = 5 * x + 3 \n",
    "else:\n",
    "    y = x + 2\n",
    "print(\"f(%.2f) = %.2f\" % (x, y))"
   ]
  },
  {
   "cell_type": "code",
   "execution_count": 9,
   "id": "fatty-cricket",
   "metadata": {},
   "outputs": [
    {
     "name": "stdin",
     "output_type": "stream",
     "text": [
      "请输入值:  5\n",
      "请输入单位:  cm\n"
     ]
    },
    {
     "name": "stdout",
     "output_type": "stream",
     "text": [
      "5.000000厘米 = 1.968504英寸\n"
     ]
    }
   ],
   "source": [
    "value = float(input(\"请输入值: \"))\n",
    "unit = input(\"请输入单位: \")\n",
    "if unit == \"in\" or unit == '英寸' or unit == 'inch':\n",
    "    print('%f英寸 = %f厘米' % (value, value * 2.54))\n",
    "elif unit == 'cm' or unit == \"厘米\":\n",
    "    print(\"%f厘米 = %f英寸\" % (value, value / 2.54))\n",
    "else:\n",
    "    print('请输入单位')"
   ]
  },
  {
   "cell_type": "code",
   "execution_count": 11,
   "id": "molecular-housing",
   "metadata": {
    "tags": []
   },
   "outputs": [
    {
     "name": "stdin",
     "output_type": "stream",
     "text": [
      "请输入成绩:  85\n"
     ]
    },
    {
     "name": "stdout",
     "output_type": "stream",
     "text": [
      "你的等级是： B\n"
     ]
    }
   ],
   "source": [
    "score = float(input(\"请输入成绩: \"))\n",
    "if score >= 90:\n",
    "    grade = \"A\"\n",
    "elif score >= 80:\n",
    "    grade = \"B\"\n",
    "elif score >= 70:\n",
    "    grade = \"C\"\n",
    "elif score >= 60:\n",
    "    grade = \"D\"\n",
    "else:\n",
    "    grade = \"E\"\n",
    "print(\"你的等级是：\", grade)"
   ]
  },
  {
   "cell_type": "code",
   "execution_count": 13,
   "id": "fifth-entertainment",
   "metadata": {},
   "outputs": [
    {
     "name": "stdin",
     "output_type": "stream",
     "text": [
      "a=  7\n",
      "b=  5\n",
      "c=  9\n"
     ]
    },
    {
     "name": "stdout",
     "output_type": "stream",
     "text": [
      "周长：21.000000\n",
      "面积：17.412280\n"
     ]
    }
   ],
   "source": [
    "a = float(input(\"a= \"))\n",
    "b = float(input(\"b= \"))\n",
    "c = float(input(\"c= \"))\n",
    "\n",
    "if a + b> c and a + c > b and b + c > a:\n",
    "    print(\"周长：%f\" % (a+b+c))\n",
    "    p = (a+b+c) / 2\n",
    "    area = (p*(p-a)*(p-b)*(p-c))** 0.5\n",
    "    print('面积：%f' % (area))\n",
    "else:\n",
    "    print(\"不是三角形\")"
   ]
  },
  {
   "cell_type": "markdown",
   "id": "statistical-cheat",
   "metadata": {},
   "source": [
    "# 04 循环结构"
   ]
  },
  {
   "cell_type": "code",
   "execution_count": 16,
   "id": "constitutional-elephant",
   "metadata": {},
   "outputs": [
    {
     "name": "stdout",
     "output_type": "stream",
     "text": [
      "5050\n"
     ]
    }
   ],
   "source": [
    "sum = 0\n",
    "for i in range(101):\n",
    "    sum =sum + i\n",
    "print(sum)"
   ]
  },
  {
   "cell_type": "code",
   "execution_count": 17,
   "id": "departmental-agriculture",
   "metadata": {},
   "outputs": [
    {
     "name": "stdout",
     "output_type": "stream",
     "text": [
      "2450\n"
     ]
    }
   ],
   "source": [
    "sum = 0\n",
    "for x in range(2, 100, 2):\n",
    "    sum += x\n",
    "print(sum)"
   ]
  },
  {
   "cell_type": "code",
   "execution_count": 18,
   "id": "reasonable-reaction",
   "metadata": {},
   "outputs": [
    {
     "data": {
      "text/plain": [
       "1"
      ]
     },
     "execution_count": 18,
     "metadata": {},
     "output_type": "execute_result"
    }
   ],
   "source": [
    "7 % 2"
   ]
  },
  {
   "cell_type": "code",
   "execution_count": 20,
   "id": "environmental-conditions",
   "metadata": {},
   "outputs": [
    {
     "name": "stdout",
     "output_type": "stream",
     "text": [
      "2550\n"
     ]
    }
   ],
   "source": [
    "# 分支\n",
    "sum = 0\n",
    "for x in range(1, 101):\n",
    "    if x % 2 == 0:\n",
    "        sum += x\n",
    "print(sum)"
   ]
  },
  {
   "cell_type": "markdown",
   "id": "labeled-disposal",
   "metadata": {},
   "source": [
    "如果要构造不知道具体循环次数的循环结构，我们推荐使用while循环。while循环通过一个能够产生或转换出bool值的表达式来控制循环，表达式的值为True则继续循环；表达式的值为False则结束循环。"
   ]
  },
  {
   "cell_type": "code",
   "execution_count": 22,
   "id": "difficult-injection",
   "metadata": {},
   "outputs": [
    {
     "name": "stdin",
     "output_type": "stream",
     "text": [
      "请输入:  5\n"
     ]
    },
    {
     "name": "stdout",
     "output_type": "stream",
     "text": [
      "you need a bigger one\n"
     ]
    },
    {
     "name": "stdin",
     "output_type": "stream",
     "text": [
      "请输入:  50\n"
     ]
    },
    {
     "name": "stdout",
     "output_type": "stream",
     "text": [
      "you need a smaller one\n"
     ]
    },
    {
     "name": "stdin",
     "output_type": "stream",
     "text": [
      "请输入:  25\n"
     ]
    },
    {
     "name": "stdout",
     "output_type": "stream",
     "text": [
      "you need a smaller one\n"
     ]
    },
    {
     "name": "stdin",
     "output_type": "stream",
     "text": [
      "请输入:  20\n"
     ]
    },
    {
     "name": "stdout",
     "output_type": "stream",
     "text": [
      "you need a smaller one\n"
     ]
    },
    {
     "name": "stdin",
     "output_type": "stream",
     "text": [
      "请输入:  10\n"
     ]
    },
    {
     "name": "stdout",
     "output_type": "stream",
     "text": [
      "you need a smaller one\n"
     ]
    },
    {
     "name": "stdin",
     "output_type": "stream",
     "text": [
      "请输入:  8\n"
     ]
    },
    {
     "name": "stdout",
     "output_type": "stream",
     "text": [
      "You are right\n",
      "你总共了6次\n",
      "you are so smart\n"
     ]
    }
   ],
   "source": [
    "import random\n",
    "answer = random.randint(1, 100)\n",
    "counter = 0\n",
    "while True:\n",
    "    counter +=1\n",
    "    number = int(input('请输入: '))\n",
    "    if number < answer:\n",
    "        print('you need a bigger one')\n",
    "    elif number > answer:\n",
    "        print(\"you need a smaller one\")\n",
    "    else:\n",
    "        print('You are right')\n",
    "        break\n",
    "print('你总共了%d次' % (counter))\n",
    "if counter > 7:\n",
    "    print(\"you are a stupid\")\n",
    "else:\n",
    "    print(\"you are so smart\")"
   ]
  },
  {
   "cell_type": "code",
   "execution_count": 23,
   "id": "protective-showcase",
   "metadata": {},
   "outputs": [
    {
     "name": "stdin",
     "output_type": "stream",
     "text": [
      "请输入:  50\n"
     ]
    },
    {
     "name": "stdout",
     "output_type": "stream",
     "text": [
      "you need a smaller one\n"
     ]
    },
    {
     "name": "stdin",
     "output_type": "stream",
     "text": [
      "请输入:  25\n"
     ]
    },
    {
     "name": "stdout",
     "output_type": "stream",
     "text": [
      "you need a bigger one\n"
     ]
    },
    {
     "name": "stdin",
     "output_type": "stream",
     "text": [
      "请输入:  47\n"
     ]
    },
    {
     "name": "stdout",
     "output_type": "stream",
     "text": [
      "you need a smaller one\n"
     ]
    },
    {
     "name": "stdin",
     "output_type": "stream",
     "text": [
      "请输入:  30\n"
     ]
    },
    {
     "name": "stdout",
     "output_type": "stream",
     "text": [
      "you need a bigger one\n"
     ]
    },
    {
     "name": "stdin",
     "output_type": "stream",
     "text": [
      "请输入:  40\n"
     ]
    },
    {
     "name": "stdout",
     "output_type": "stream",
     "text": [
      "you need a smaller one\n"
     ]
    },
    {
     "name": "stdin",
     "output_type": "stream",
     "text": [
      "请输入:  35\n"
     ]
    },
    {
     "name": "stdout",
     "output_type": "stream",
     "text": [
      "You are right\n",
      "你总共了6次\n",
      "you are so smart\n"
     ]
    }
   ],
   "source": [
    "import random\n",
    "answer = random.randint(1, 100)\n",
    "counter = 0\n",
    "while True:\n",
    "    counter +=1\n",
    "    number = int(input('请输入: '))\n",
    "    if number < answer:\n",
    "        print('you need a bigger one')\n",
    "    elif number > answer:\n",
    "        print(\"you need a smaller one\")\n",
    "    else:\n",
    "        print('You are right')\n",
    "        break\n",
    "print('你总共了%d次' % (counter))\n",
    "if counter > 7:\n",
    "    print(\"you are a stupid\")\n",
    "else:\n",
    "    print(\"you are so smart\")"
   ]
  },
  {
   "cell_type": "code",
   "execution_count": 24,
   "id": "relevant-snowboard",
   "metadata": {},
   "outputs": [
    {
     "name": "stdin",
     "output_type": "stream",
     "text": [
      "请输入:  50\n"
     ]
    },
    {
     "name": "stdout",
     "output_type": "stream",
     "text": [
      "you need a smaller one\n"
     ]
    },
    {
     "name": "stdin",
     "output_type": "stream",
     "text": [
      "请输入:  25\n"
     ]
    },
    {
     "name": "stdout",
     "output_type": "stream",
     "text": [
      "you need a bigger one\n"
     ]
    },
    {
     "name": "stdin",
     "output_type": "stream",
     "text": [
      "请输入:  45\n"
     ]
    },
    {
     "name": "stdout",
     "output_type": "stream",
     "text": [
      "you need a bigger one\n"
     ]
    },
    {
     "name": "stdin",
     "output_type": "stream",
     "text": [
      "请输入:  47\n"
     ]
    },
    {
     "name": "stdout",
     "output_type": "stream",
     "text": [
      "you need a smaller one\n"
     ]
    },
    {
     "name": "stdin",
     "output_type": "stream",
     "text": [
      "请输入:  46\n"
     ]
    },
    {
     "name": "stdout",
     "output_type": "stream",
     "text": [
      "You are right\n",
      "你总共了5次\n",
      "you are so smart\n"
     ]
    }
   ],
   "source": [
    "import random\n",
    "answer = random.randint(1, 100)\n",
    "counter = 0\n",
    "while True:\n",
    "    counter +=1\n",
    "    number = int(input('请输入: '))\n",
    "    if number < answer:\n",
    "        print('you need a bigger one')\n",
    "    elif number > answer:\n",
    "        print(\"you need a smaller one\")\n",
    "    else:\n",
    "        print('You are right')\n",
    "        break\n",
    "print('你总共了%d次' % (counter))\n",
    "if counter > 7:\n",
    "    print(\"you are a stupid\")\n",
    "else:\n",
    "    print(\"you are so smart\")"
   ]
  },
  {
   "cell_type": "code",
   "execution_count": 25,
   "id": "genuine-latin",
   "metadata": {},
   "outputs": [
    {
     "name": "stdout",
     "output_type": "stream",
     "text": [
      "1 * 1 = 1\t1 * 2 = 2\t1 * 3 = 3\t1 * 4 = 4\t1 * 5 = 5\t1 * 6 = 6\t1 * 7 = 7\t1 * 8 = 8\t1 * 9 = 9\t\n",
      "2 * 1 = 2\t2 * 2 = 4\t2 * 3 = 6\t2 * 4 = 8\t2 * 5 = 10\t2 * 6 = 12\t2 * 7 = 14\t2 * 8 = 16\t2 * 9 = 18\t\n",
      "3 * 1 = 3\t3 * 2 = 6\t3 * 3 = 9\t3 * 4 = 12\t3 * 5 = 15\t3 * 6 = 18\t3 * 7 = 21\t3 * 8 = 24\t3 * 9 = 27\t\n",
      "4 * 1 = 4\t4 * 2 = 8\t4 * 3 = 12\t4 * 4 = 16\t4 * 5 = 20\t4 * 6 = 24\t4 * 7 = 28\t4 * 8 = 32\t4 * 9 = 36\t\n",
      "5 * 1 = 5\t5 * 2 = 10\t5 * 3 = 15\t5 * 4 = 20\t5 * 5 = 25\t5 * 6 = 30\t5 * 7 = 35\t5 * 8 = 40\t5 * 9 = 45\t\n",
      "6 * 1 = 6\t6 * 2 = 12\t6 * 3 = 18\t6 * 4 = 24\t6 * 5 = 30\t6 * 6 = 36\t6 * 7 = 42\t6 * 8 = 48\t6 * 9 = 54\t\n",
      "7 * 1 = 7\t7 * 2 = 14\t7 * 3 = 21\t7 * 4 = 28\t7 * 5 = 35\t7 * 6 = 42\t7 * 7 = 49\t7 * 8 = 56\t7 * 9 = 63\t\n",
      "8 * 1 = 8\t8 * 2 = 16\t8 * 3 = 24\t8 * 4 = 32\t8 * 5 = 40\t8 * 6 = 48\t8 * 7 = 56\t8 * 8 = 64\t8 * 9 = 72\t\n",
      "9 * 1 = 9\t9 * 2 = 18\t9 * 3 = 27\t9 * 4 = 36\t9 * 5 = 45\t9 * 6 = 54\t9 * 7 = 63\t9 * 8 = 72\t9 * 9 = 81\t\n"
     ]
    }
   ],
   "source": [
    "for i in range(1, 10):\n",
    "    for j in range(1, 10):\n",
    "        print(\"%d * %d = %d\" % (i, j, i*j), end= \"\\t\")\n",
    "    print()"
   ]
  },
  {
   "cell_type": "markdown",
   "id": "conscious-florida",
   "metadata": {},
   "source": [
    "### 素数指的是只能被1和自身整除的大于1的整数。"
   ]
  },
  {
   "cell_type": "code",
   "execution_count": 34,
   "id": "lucky-curve",
   "metadata": {},
   "outputs": [
    {
     "name": "stdin",
     "output_type": "stream",
     "text": [
      "input:  9\n"
     ]
    },
    {
     "name": "stdout",
     "output_type": "stream",
     "text": [
      "9 is not prime\n"
     ]
    }
   ],
   "source": [
    "# 判断一个输入整数是否是素数\n",
    "from math import sqrt\n",
    "\n",
    "num = int(input(\"input: \"))\n",
    "end = int(sqrt(num))\n",
    "is_prime = True\n",
    "for x in range(2, end + 1):\n",
    "    if num % x ==0: #数字能把 x 整除\n",
    "        is_prime = False\n",
    "        break\n",
    "if is_prime and num !=1:\n",
    "    print(\"%d is prime\" % num)\n",
    "else:\n",
    "    print(\"%d is not prime\" % num)"
   ]
  },
  {
   "cell_type": "code",
   "execution_count": 35,
   "id": "static-liquid",
   "metadata": {},
   "outputs": [
    {
     "name": "stdin",
     "output_type": "stream",
     "text": [
      "input:  80\n"
     ]
    },
    {
     "name": "stdout",
     "output_type": "stream",
     "text": [
      "80 is not prime\n"
     ]
    }
   ],
   "source": [
    "# 判断一个输入整数是否是素数\n",
    "from math import sqrt\n",
    "\n",
    "num = int(input(\"input: \"))\n",
    "# end = int(sqrt(num))\n",
    "is_prime = True\n",
    "for x in range(2, num + 1): #for 循环\n",
    "    if num % x ==0: #数字能把 x 整除 ；遍历条件\n",
    "        is_prime = False\n",
    "        break\n",
    "if is_prime and num !=1:\n",
    "    print(\"%d is prime\" % num)\n",
    "else:\n",
    "    print(\"%d is not prime\" % num)"
   ]
  },
  {
   "cell_type": "code",
   "execution_count": 36,
   "id": "starting-collect",
   "metadata": {},
   "outputs": [
    {
     "data": {
      "text/plain": [
       "4"
      ]
     },
     "execution_count": 36,
     "metadata": {},
     "output_type": "execute_result"
    }
   ],
   "source": [
    "9 // 2"
   ]
  },
  {
   "cell_type": "code",
   "execution_count": 1,
   "id": "fossil-matter",
   "metadata": {},
   "outputs": [
    {
     "name": "stdin",
     "output_type": "stream",
     "text": [
      "input:  4\n",
      "input:  15\n"
     ]
    },
    {
     "name": "stdout",
     "output_type": "stream",
     "text": [
      "4 and 15 的最大公约数是1\n",
      "4 and 15 的最小公约数是60\n"
     ]
    }
   ],
   "source": [
    "# 输入两个正整数计算它们的最大公约数和最小公倍数\n",
    "x = int(input(\"input: \"))\n",
    "y = int(input(\"input: \"))\n",
    "\n",
    "if x > y:\n",
    "    x, y = y, x\n",
    "for factor in range(x, 0, -1):\n",
    "    if x % factor == 0 and y % factor == 0:\n",
    "        print(\"%d and %d 的最大公约数是%d\" % (x, y, factor))\n",
    "        print(\"%d and %d 的最小公约数是%d\" % (x, y, x * y // factor))\n",
    "        break"
   ]
  },
  {
   "cell_type": "code",
   "execution_count": null,
   "id": "handy-richards",
   "metadata": {},
   "outputs": [],
   "source": []
  }
 ],
 "metadata": {
  "kernelspec": {
   "display_name": "Python 3",
   "language": "python",
   "name": "python3"
  },
  "language_info": {
   "codemirror_mode": {
    "name": "ipython",
    "version": 3
   },
   "file_extension": ".py",
   "mimetype": "text/x-python",
   "name": "python",
   "nbconvert_exporter": "python",
   "pygments_lexer": "ipython3",
   "version": "3.9.2"
  }
 },
 "nbformat": 4,
 "nbformat_minor": 5
}
